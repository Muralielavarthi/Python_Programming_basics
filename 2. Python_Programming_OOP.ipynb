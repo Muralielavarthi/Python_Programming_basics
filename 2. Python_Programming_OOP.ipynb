{
 "cells": [
  {
   "cell_type": "markdown",
   "metadata": {},
   "source": [
    "# Procedural (C) vs OOP (C++/Java/Python)\n",
    "- Large software can be built in C. e.g: Linux Kernel , e.g: heart of mac os ( as complexity increases it is bit difficult build using c programming)\n",
    "- OOP: Easier to design, reuse components and build large software\n",
    "- SDE: should know OOP as they will be working in teams building large software\n",
    "- ML & DS roles: Should know the basics to use various modules and extend them when needed. \n",
    "- The true power of OOP and OOD can be undestood when deisgning a large piece of software like a library for plotting\n"
   ]
  },
  {
   "cell_type": "code",
   "execution_count": 1,
   "metadata": {},
   "outputs": [
    {
     "data": {
      "text/plain": [
       "'3.7.4 (default, Aug 13 2019, 15:17:50) \\n[Clang 4.0.1 (tags/RELEASE_401/final)]'"
      ]
     },
     "execution_count": 1,
     "metadata": {},
     "output_type": "execute_result"
    }
   ],
   "source": [
    "#python version\n",
    "import sys\n",
    "sys.version"
   ]
  },
  {
   "cell_type": "code",
   "execution_count": 2,
   "metadata": {},
   "outputs": [],
   "source": [
    "# class: datatype\n",
    "# object: variable\n",
    "# Class: datatype/DS & Object: variable of a class"
   ]
  },
  {
   "cell_type": "code",
   "execution_count": 3,
   "metadata": {},
   "outputs": [],
   "source": [
    "# Class: group all variables/attributes and functions/methods into a single logical unit\n",
    "# self is reference to the object that has be called(obj1) \n",
    "\n",
    "class test1:\n",
    "    \n",
    "    def __init__(self): # constructor; not must, but, good to have;initialize all attributes here\n",
    "        self.d=dict()   # here dict is actually a class, we calling its constructor(dict())\n",
    "    def test_fun(self,x):# first argument to all methods is \"self\" => this object\n",
    "        print(x+1)\n",
    "\n",
    "        "
   ]
  },
  {
   "cell_type": "code",
   "execution_count": 4,
   "metadata": {},
   "outputs": [
    {
     "name": "stdout",
     "output_type": "stream",
     "text": [
      "21\n"
     ]
    },
    {
     "data": {
      "text/plain": [
       "{}"
      ]
     },
     "execution_count": 4,
     "metadata": {},
     "output_type": "execute_result"
    }
   ],
   "source": [
    "obj1=test1() # constructor being called; memory allocated # the moment object is created, it calls constructor the fucntion, and executed code within the constructor \n",
    "obj1.test_fun(20)\n",
    "obj1.d"
   ]
  },
  {
   "cell_type": "code",
   "execution_count": 5,
   "metadata": {},
   "outputs": [],
   "source": [
    "class test2:\n",
    "    \n",
    "    def __init__(self,i): # constructor; not must, but, good to have;initialize all attributes here\n",
    "        self.d=dict()\n",
    "        self.a=i\n",
    "    def test_fun2(self,x):# first argument to all methods is \"self\" => this object\n",
    "        print(x**2)\n"
   ]
  },
  {
   "cell_type": "code",
   "execution_count": 6,
   "metadata": {},
   "outputs": [],
   "source": [
    "obj2= test2(23)"
   ]
  },
  {
   "cell_type": "code",
   "execution_count": 7,
   "metadata": {},
   "outputs": [
    {
     "data": {
      "text/plain": [
       "23"
      ]
     },
     "execution_count": 7,
     "metadata": {},
     "output_type": "execute_result"
    }
   ],
   "source": [
    "obj2.a"
   ]
  },
  {
   "cell_type": "code",
   "execution_count": 8,
   "metadata": {},
   "outputs": [
    {
     "name": "stdout",
     "output_type": "stream",
     "text": [
      "196\n"
     ]
    }
   ],
   "source": [
    "obj2.test_fun2(14)"
   ]
  },
  {
   "cell_type": "code",
   "execution_count": 9,
   "metadata": {},
   "outputs": [
    {
     "name": "stdout",
     "output_type": "stream",
     "text": [
      "<class '__main__.test2'>\n"
     ]
    }
   ],
   "source": [
    "print(type(obj2))"
   ]
  },
  {
   "cell_type": "markdown",
   "metadata": {},
   "source": [
    "What does this \"\\__main__\" mean?\n",
    "\n",
    "The script invoked directly is considered to be in the __main__ module. It can be imported and accessed the same way as any other module."
   ]
  },
  {
   "cell_type": "code",
   "execution_count": 10,
   "metadata": {},
   "outputs": [],
   "source": [
    "# by default any script we write in python, which is not within a another module, then \n",
    "# __main__ is the main module in which, this program being actually executed "
   ]
  },
  {
   "cell_type": "code",
   "execution_count": 11,
   "metadata": {},
   "outputs": [],
   "source": [
    "import numpy as np\n"
   ]
  },
  {
   "cell_type": "code",
   "execution_count": 12,
   "metadata": {},
   "outputs": [
    {
     "data": {
      "text/plain": [
       "numpy.ndarray"
      ]
     },
     "execution_count": 12,
     "metadata": {},
     "output_type": "execute_result"
    }
   ],
   "source": [
    "type(np.array([1,2,34]))"
   ]
  },
  {
   "cell_type": "code",
   "execution_count": 13,
   "metadata": {},
   "outputs": [],
   "source": [
    "# Here ndarray is name of class and Numpy is the module in which ndarray exisits"
   ]
  },
  {
   "cell_type": "code",
   "execution_count": 14,
   "metadata": {},
   "outputs": [
    {
     "name": "stdout",
     "output_type": "stream",
     "text": [
      "<class '__main__.EmptyClass'>\n"
     ]
    }
   ],
   "source": [
    "# not used except in few cases\n",
    "# No need to have any atributes or methods\n",
    "class EmptyClass:\n",
    "    pass\n",
    "\n",
    "e = EmptyClass();\n",
    "print(type(e))"
   ]
  },
  {
   "cell_type": "markdown",
   "metadata": {},
   "source": [
    "### There are lots of internals and boundary cases for which reading documentation is a good idea.\n",
    "- https://docs.python.org/3/tutorial/classes.html\n",
    "    \n",
    "#### We will focus more on applied aspects in the context of ML/AI."
   ]
  },
  {
   "cell_type": "code",
   "execution_count": 15,
   "metadata": {},
   "outputs": [],
   "source": [
    "# Class variables shared by all objects\n",
    "# check the same with dict, it is also shared among objects ,if  not created inside __init__\n",
    "\n",
    "class test3:\n",
    "    test3_var=20 # class variable\n",
    "    d={\"1\":20}\n",
    "    def __init__(self):\n",
    "        self.a=20\n",
    "    def __test3_fun(self,x,y):\n",
    "        print(x,y)"
   ]
  },
  {
   "cell_type": "code",
   "execution_count": 16,
   "metadata": {},
   "outputs": [
    {
     "data": {
      "text/plain": [
       "4467579712"
      ]
     },
     "execution_count": 16,
     "metadata": {},
     "output_type": "execute_result"
    }
   ],
   "source": [
    "s1=test3()\n",
    "s1.test3_var\n",
    "id(s1.d)"
   ]
  },
  {
   "cell_type": "code",
   "execution_count": 17,
   "metadata": {},
   "outputs": [
    {
     "data": {
      "text/plain": [
       "4467579712"
      ]
     },
     "execution_count": 17,
     "metadata": {},
     "output_type": "execute_result"
    }
   ],
   "source": [
    "s2=test3()\n",
    "s2.test3_var\n",
    "id(s2.d)"
   ]
  },
  {
   "cell_type": "code",
   "execution_count": 18,
   "metadata": {},
   "outputs": [],
   "source": [
    "# \"Private Members\"\n",
    "\n",
    "class test4:\n",
    "    test3_var=20 # class variable # Public => accesible directly from outside the class\n",
    "    __t1__=60 # \"Private\" memebers. Member => attribute or method\n",
    "    d={\"1\":20}\n",
    "    def __init__(self):\n",
    "        self.a=20\n",
    "    def __test4_fun__(self,x,y): # private method\n",
    "        print(x,y)"
   ]
  },
  {
   "cell_type": "code",
   "execution_count": 19,
   "metadata": {},
   "outputs": [
    {
     "ename": "AttributeError",
     "evalue": "'test4' object has no attribute 't1'",
     "output_type": "error",
     "traceback": [
      "\u001b[0;31m---------------------------------------------------------------------------\u001b[0m",
      "\u001b[0;31mAttributeError\u001b[0m                            Traceback (most recent call last)",
      "\u001b[0;32m<ipython-input-19-56ed01ef96c7>\u001b[0m in \u001b[0;36m<module>\u001b[0;34m\u001b[0m\n\u001b[1;32m      1\u001b[0m \u001b[0mm2\u001b[0m\u001b[0;34m=\u001b[0m\u001b[0mtest4\u001b[0m\u001b[0;34m(\u001b[0m\u001b[0;34m)\u001b[0m\u001b[0;34m\u001b[0m\u001b[0;34m\u001b[0m\u001b[0m\n\u001b[0;32m----> 2\u001b[0;31m \u001b[0mm2\u001b[0m\u001b[0;34m.\u001b[0m\u001b[0mt1\u001b[0m\u001b[0;34m\u001b[0m\u001b[0;34m\u001b[0m\u001b[0m\n\u001b[0m",
      "\u001b[0;31mAttributeError\u001b[0m: 'test4' object has no attribute 't1'"
     ]
    }
   ],
   "source": [
    "m2=test4()\n",
    "m2.t1"
   ]
  },
  {
   "cell_type": "code",
   "execution_count": 20,
   "metadata": {},
   "outputs": [
    {
     "ename": "AttributeError",
     "evalue": "'test4' object has no attribute 'test4_fun'",
     "output_type": "error",
     "traceback": [
      "\u001b[0;31m---------------------------------------------------------------------------\u001b[0m",
      "\u001b[0;31mAttributeError\u001b[0m                            Traceback (most recent call last)",
      "\u001b[0;32m<ipython-input-20-d1c7175b7c02>\u001b[0m in \u001b[0;36m<module>\u001b[0;34m\u001b[0m\n\u001b[0;32m----> 1\u001b[0;31m \u001b[0mm2\u001b[0m\u001b[0;34m.\u001b[0m\u001b[0mtest4_fun\u001b[0m\u001b[0;34m(\u001b[0m\u001b[0;34m)\u001b[0m\u001b[0;34m\u001b[0m\u001b[0;34m\u001b[0m\u001b[0m\n\u001b[0m",
      "\u001b[0;31mAttributeError\u001b[0m: 'test4' object has no attribute 'test4_fun'"
     ]
    }
   ],
   "source": [
    "m2.test4_fun()"
   ]
  },
  {
   "cell_type": "code",
   "execution_count": 21,
   "metadata": {},
   "outputs": [
    {
     "data": {
      "text/plain": [
       "20"
      ]
     },
     "execution_count": 21,
     "metadata": {},
     "output_type": "execute_result"
    }
   ],
   "source": [
    "m2.test3_var"
   ]
  },
  {
   "cell_type": "markdown",
   "metadata": {},
   "source": [
    "### Abstraction: [https://en.wikipedia.org/wiki/Abstraction_principle_(computer_programming)]\n",
    "- As a recommendation to the programmer, in its formulation by Benjamin C. Pierce in Types and Programming Languages (2002), the abstraction principle reads:\n",
    "“\tEach significant piece of functionality in a program should be implemented in just one place in the source code. Where similar functions are carried out by distinct pieces of code, it is generally beneficial to combine them into one by abstracting out the varying parts.\t”\n",
    "- General concept in porgramming: libraries, classes\n",
    "\n",
    "- \"Its main goal is to handle complexity by hiding unnecessary details from the user. That enables the user to implement more complex logic on top of the provided abstraction without understanding or even thinking about all the hidden complexity.\" [Source: https://stackify.com/oop-concept-abstraction/]\n",
    "\n"
   ]
  },
  {
   "cell_type": "markdown",
   "metadata": {},
   "source": [
    "### Encapsulation: [https://en.wikipedia.org/wiki/Encapsulation_(computer_programming)]\n",
    "In object-oriented programming languages, and other related fields, encapsulation refers to one of two related but distinct notions, and sometimes to the combination thereof:\n",
    "\n",
    "1.  A language mechanism for restricting direct access to some of the object's components.\n",
    "( Ex: private members)\n",
    "2. A language construct that facilitates the bundling of data with the methods (or other functions) operating on that data.\n",
    "(in class we are encapulating by combing data and methods)"
   ]
  },
  {
   "cell_type": "code",
   "execution_count": 22,
   "metadata": {},
   "outputs": [],
   "source": [
    "# if we want to modify, only few things in the class, in that case we will derive the class\n",
    "# and do only the changes using inheritance in derived class"
   ]
  },
  {
   "cell_type": "code",
   "execution_count": 23,
   "metadata": {},
   "outputs": [],
   "source": [
    "# Inheritence: baseclass, derived class [https://docs.python.org/3/tutorial/classes.html#inheritance]"
   ]
  },
  {
   "cell_type": "code",
   "execution_count": 24,
   "metadata": {},
   "outputs": [],
   "source": [
    "class A:\n",
    "    def __init__(self):\n",
    "        self.a=20\n",
    "    def test(self,x):\n",
    "        print(x)"
   ]
  },
  {
   "cell_type": "code",
   "execution_count": 25,
   "metadata": {},
   "outputs": [],
   "source": [
    "class B(A):\n",
    "    def explore(self,y):\n",
    "        print(y)"
   ]
  },
  {
   "cell_type": "code",
   "execution_count": 26,
   "metadata": {},
   "outputs": [],
   "source": [
    "e2=B()"
   ]
  },
  {
   "cell_type": "code",
   "execution_count": 27,
   "metadata": {},
   "outputs": [
    {
     "name": "stdout",
     "output_type": "stream",
     "text": [
      "19\n"
     ]
    }
   ],
   "source": [
    "e2.test(19)\n"
   ]
  },
  {
   "cell_type": "code",
   "execution_count": 28,
   "metadata": {},
   "outputs": [],
   "source": [
    "class t1:\n",
    "    def __init__(self):\n",
    "        self.x=10\n",
    "    def test_fun(self,x):\n",
    "        prnt(x+1)"
   ]
  },
  {
   "cell_type": "code",
   "execution_count": 29,
   "metadata": {},
   "outputs": [],
   "source": [
    "class t2(t1):\n",
    "    def test_fun(self,x): # overriding as same name as base-class\n",
    "        print(x**2)\n",
    "        "
   ]
  },
  {
   "cell_type": "code",
   "execution_count": 30,
   "metadata": {},
   "outputs": [
    {
     "name": "stdout",
     "output_type": "stream",
     "text": [
      "400\n"
     ]
    }
   ],
   "source": [
    "# in inheritance when ever a function is called, it first check in its class and \n",
    "# if implementation is not there, then it goes and checks in its base class\n",
    "obj1=t2() # base-class constructor is executed, as derived class  has no constructor \n",
    "obj1.test_fun(20)"
   ]
  },
  {
   "cell_type": "code",
   "execution_count": 31,
   "metadata": {},
   "outputs": [],
   "source": [
    "class test_class():\n",
    "    pass\n",
    "    "
   ]
  },
  {
   "cell_type": "code",
   "execution_count": 32,
   "metadata": {},
   "outputs": [],
   "source": [
    "obj1=test_class() \n",
    "# no constructor in test_class, then how this line is execute without any error\n",
    "# here it is calling base class constructor in object special class"
   ]
  },
  {
   "cell_type": "code",
   "execution_count": 33,
   "metadata": {},
   "outputs": [],
   "source": [
    "# The logic is in python, any class that we create is by default, a derived class\n",
    "# of a special class called object (lower case -o)\n"
   ]
  },
  {
   "cell_type": "code",
   "execution_count": 34,
   "metadata": {},
   "outputs": [],
   "source": [
    "# if we write like class test_class(): or class test_class: internally it mean\n",
    "# class test_class(object)"
   ]
  },
  {
   "cell_type": "code",
   "execution_count": 35,
   "metadata": {},
   "outputs": [],
   "source": [
    "### object is the base class for all classes in Python\n",
    " \n",
    "class MyClass(object): # object is the base-class by default and implicitly.\n",
    "    pass\n",
    "\n",
    "\n",
    "# __new__() : creates a new object and calls the __init__()\n",
    "# __init__() : default constructor\n",
    "# __str__() : write code to convert object into string for printing."
   ]
  },
  {
   "cell_type": "code",
   "execution_count": 36,
   "metadata": {},
   "outputs": [],
   "source": [
    "# when we call the constructor, first __new__() is called and it does memory allocation \n",
    "# and then only __init__()"
   ]
  },
  {
   "cell_type": "code",
   "execution_count": 37,
   "metadata": {},
   "outputs": [
    {
     "name": "stdout",
     "output_type": "stream",
     "text": [
      "<class 'list'>\n",
      "[1, 2, 3, 4]\n"
     ]
    }
   ],
   "source": [
    "\n",
    "a = [1,2,3,4];\n",
    "print(type(a)) # here a is an object of class list\n",
    "\n",
    "print(a) # here it is priniting a in some string format, where is actually the implementation\n",
    "\n",
    "# here list is also derived class of special class object\n",
    "# the person implemented list class, overwritten the __str__() \n",
    "#in list class, saying we will print list in this format"
   ]
  },
  {
   "cell_type": "code",
   "execution_count": 38,
   "metadata": {},
   "outputs": [
    {
     "name": "stdout",
     "output_type": "stream",
     "text": [
      "any string representation of the object of this class that we want\n"
     ]
    }
   ],
   "source": [
    "class ClassWithStr(): #default object is the base class\n",
    "    def __str__(self):\n",
    "        return \"any string representation of the object of this class that we want\"\n",
    "    \n",
    "c1 = ClassWithStr();\n",
    "print(c1)"
   ]
  },
  {
   "cell_type": "code",
   "execution_count": 39,
   "metadata": {},
   "outputs": [],
   "source": [
    "# another example for __str__()\n",
    "# if we want to print object in different way, we need to \n",
    "# override object class __str__() function\n",
    "class test_class():\n",
    "    def __init__(self):\n",
    "        self.d=dict()\n",
    "        self.d['name']=\"test_class\"\n",
    "    def __str__(self):\n",
    "        return \"self\"+str(self.d['name'])"
   ]
  },
  {
   "cell_type": "code",
   "execution_count": 40,
   "metadata": {},
   "outputs": [],
   "source": [
    "s1=test_class()"
   ]
  },
  {
   "cell_type": "code",
   "execution_count": 41,
   "metadata": {},
   "outputs": [
    {
     "name": "stdout",
     "output_type": "stream",
     "text": [
      "selftest_class\n"
     ]
    }
   ],
   "source": [
    "print(s1)"
   ]
  },
  {
   "cell_type": "code",
   "execution_count": 43,
   "metadata": {},
   "outputs": [],
   "source": [
    "# modules # submodules # class\n",
    "# it is important to know the basics of oops as ML engineer /D\n",
    "# as we extensively use others libraries\n",
    "# this helps to understand and debug easily"
   ]
  },
  {
   "cell_type": "code",
   "execution_count": null,
   "metadata": {},
   "outputs": [],
   "source": []
  }
 ],
 "metadata": {
  "kernelspec": {
   "display_name": "Python 3",
   "language": "python",
   "name": "python3"
  },
  "language_info": {
   "codemirror_mode": {
    "name": "ipython",
    "version": 3
   },
   "file_extension": ".py",
   "mimetype": "text/x-python",
   "name": "python",
   "nbconvert_exporter": "python",
   "pygments_lexer": "ipython3",
   "version": "3.7.4"
  }
 },
 "nbformat": 4,
 "nbformat_minor": 2
}
